{
  "nbformat": 4,
  "nbformat_minor": 0,
  "metadata": {
    "colab": {
      "provenance": [],
      "authorship_tag": "ABX9TyP3udWAG44Q8mtGtaGvkjzv",
      "include_colab_link": true
    },
    "kernelspec": {
      "name": "python3",
      "display_name": "Python 3"
    },
    "language_info": {
      "name": "python"
    }
  },
  "cells": [
    {
      "cell_type": "markdown",
      "metadata": {
        "id": "view-in-github",
        "colab_type": "text"
      },
      "source": [
        "<a href=\"https://colab.research.google.com/github/jyotidabass/web-scrapping-using-python/blob/main/Webscraping_using_python.ipynb\" target=\"_parent\"><img src=\"https://colab.research.google.com/assets/colab-badge.svg\" alt=\"Open In Colab\"/></a>"
      ]
    },
    {
      "cell_type": "code",
      "execution_count": 7,
      "metadata": {
        "colab": {
          "base_uri": "https://localhost:8080/"
        },
        "id": "sUdP3Mff9lvO",
        "outputId": "7088699f-4ea1-4d76-9905-6565fe6401c0"
      },
      "outputs": [
        {
          "output_type": "stream",
          "name": "stdout",
          "text": [
            "Requirement already satisfied: beautifulsoup4 in /usr/local/lib/python3.10/dist-packages (4.12.3)\n",
            "Requirement already satisfied: soupsieve>1.2 in /usr/local/lib/python3.10/dist-packages (from beautifulsoup4) (2.5)\n",
            "\n",
            "                Based on 3 Million Research Studies\n",
            "              \n",
            "\n",
            "                Get Your Free Natural Wellness Plan\n",
            "              \n",
            "\n",
            "                Your Health Experts\n",
            "              \n",
            "\n",
            "              Discover the Latest Insights\n",
            "            \n",
            "\n",
            "            Get Your Free Recommendations Today!\n",
            "          \n",
            "/\n",
            "/health-coach/\n",
            "None\n",
            "/about-us/\n",
            "/blogs/\n",
            "/contact/\n",
            "/smart-tool/\n",
            "/blogs/nutrient-absorption/\n",
            "/blogs/blood-sugar-balancing/\n",
            "/blogs/\n",
            "/\n",
            "/health-coach/\n",
            "None\n",
            "/about-us/\n",
            "/blogs/\n",
            "/contact/\n",
            "None\n",
            "/smart-tool/\n",
            "/blogs/nutrient-absorption/\n",
            "/blogs/blood-sugar-balancing/\n",
            "/blogs/\n",
            "/about-us/\n",
            "#recommendation-input\n",
            "/health-coach/\n",
            "https://www.tiktok.com/@meettulip?lang=en\n",
            "https://www.facebook.com/meettulip/\n",
            "https://www.instagram.com/meettulip/\n",
            "https://www.ncbi.nlm.nih.gov/pmc/articles/PMC4772032/\n",
            "https://www.ncbi.nlm.nih.gov/pmc/articles/PMC4772032/\n",
            "https://www.ncbi.nlm.nih.gov/pmc/articles/PMC6131403/\n",
            "https://www.ncbi.nlm.nih.gov/pmc/articles/PMC6131403/\n",
            "https://www.ncbi.nlm.nih.gov/pmc/articles/PMC6131403/\n",
            "https://www.ncbi.nlm.nih.gov/pmc/articles/PMC6131403/\n",
            "/contact/\n",
            "/blogs/nutrient-absorption/\n",
            "None\n",
            "/blogs/blood-sugar-balancing/\n",
            "/blogs/high-fat-diet/\n",
            "/health-coach/\n",
            "/smart-tool/\n",
            "/tongue-analysis/\n",
            "/about-us/\n",
            "/blogs/\n",
            "/contact/\n",
            "https://www.facebook.com/meettulip/\n",
            "https://www.instagram.com/meettulip/\n",
            "https://www.tiktok.com/@meettulip?lang=en\n",
            "/terms/\n",
            "/privacy/\n"
          ]
        }
      ],
      "source": [
        "!pip install beautifulsoup4\n",
        "\n",
        "import requests\n",
        "from bs4 import BeautifulSoup\n",
        "\n",
        "url = 'https://meettulip.com/'\n",
        "\n",
        "# Send a request to the website\n",
        "response = requests.get(url)\n",
        "\n",
        "# Parse the HTML content\n",
        "soup = BeautifulSoup(response.content, 'html.parser')\n",
        "\n",
        "# Find and extract data using various CSS selectors\n",
        "headings = soup.find_all('h1')\n",
        "for heading in headings:\n",
        "    print(heading.text)\n",
        "\n",
        "links = soup.find_all('a')\n",
        "for link in links:\n",
        "    print(link.get('href'))"
      ]
    }
  ]
}